{
  "nbformat": 4,
  "nbformat_minor": 0,
  "metadata": {
    "colab": {
      "provenance": []
    },
    "kernelspec": {
      "name": "python3",
      "display_name": "Python 3"
    },
    "language_info": {
      "name": "python"
    }
  },
  "cells": [
    {
      "cell_type": "markdown",
      "source": [
        "<aside>\n",
        "💡 **Question 1**\n",
        "\n",
        "Given an integer `n`, return *`true` if it is a power of two. Otherwise, return `false`*.\n",
        "\n",
        "An integer `n` is a power of two, if there exists an integer `x` such that `n == 2x`.\n",
        "\n",
        "**Example 1:**\n",
        "Input: n = 1 \n",
        "\n",
        "Output: true\n",
        "\n",
        "**Example 2:**\n",
        "Input: n = 16 \n",
        "\n",
        "Output: true\n",
        "\n",
        "**Example 3:**\n",
        "Input: n = 3 \n",
        "\n",
        "Output: false\n",
        "\n",
        "</aside>"
      ],
      "metadata": {
        "id": "az_jmlMhNy04"
      }
    },
    {
      "cell_type": "code",
      "execution_count": null,
      "metadata": {
        "colab": {
          "base_uri": "https://localhost:8080/"
        },
        "id": "IsDKUdR2yJ-T",
        "outputId": "07f81075-d126-4356-f1f5-15009a1081a2"
      },
      "outputs": [
        {
          "output_type": "stream",
          "name": "stdout",
          "text": [
            "True\n",
            "True\n",
            "False\n"
          ]
        }
      ],
      "source": [
        "def is_power_of_two(n):\n",
        "  if n==1:\n",
        "    return True\n",
        "  elif n<=0 or n%2!=0:\n",
        "    return False\n",
        "  else:\n",
        "    return is_power_of_two(n//2)\n",
        "\n",
        "n = 1\n",
        "print(is_power_of_two(1))\n",
        "n = 16\n",
        "print(is_power_of_two(16)) \n",
        "n = 3 \n",
        "print(is_power_of_two(3))"
      ]
    },
    {
      "cell_type": "markdown",
      "source": [
        "<aside>\n",
        "💡 **Question 2**\n",
        "\n",
        "Given a number n, find the sum of the first natural numbers.\n",
        "\n",
        "**Example 1:**\n",
        "\n",
        "Input: n = 3 \n",
        "\n",
        "Output: 6\n",
        "\n",
        "**Example 2:**\n",
        "\n",
        "Input  : 5 \n",
        "\n",
        "Output : 15\n",
        "\n",
        "</aside>"
      ],
      "metadata": {
        "id": "dymfmWz3N7uc"
      }
    },
    {
      "cell_type": "code",
      "source": [
        "def sum_of_natural_numbers(n):\n",
        "  if n==0:\n",
        "    return 0\n",
        "  else:\n",
        "    return n+sum_of_natural_numbers(n-1)\n",
        "\n",
        "n=3\n",
        "print(sum_of_natural_numbers(3))\n",
        "n=5\n",
        "print(sum_of_natural_numbers(5))"
      ],
      "metadata": {
        "colab": {
          "base_uri": "https://localhost:8080/"
        },
        "id": "pII1HZCt1OQA",
        "outputId": "ce089290-3f5c-4d17-a45e-84ee2d213e76"
      },
      "execution_count": null,
      "outputs": [
        {
          "output_type": "stream",
          "name": "stdout",
          "text": [
            "6\n",
            "15\n"
          ]
        }
      ]
    },
    {
      "cell_type": "markdown",
      "source": [
        "<aside>\n",
        "💡 **Question 3**\n",
        "\n",
        "****Given a positive integer, N. Find the factorial of N. \n",
        "\n",
        "**Example 1:**\n",
        "\n",
        "Input: N = 5 \n",
        "\n",
        "Output: 120\n",
        "\n",
        "**Example 2:**\n",
        "\n",
        "Input: N = 4\n",
        "\n",
        "Output: 24\n",
        "\n",
        "</aside>"
      ],
      "metadata": {
        "id": "DQLPw_4NOBjL"
      }
    },
    {
      "cell_type": "code",
      "source": [
        "def factorial(n):\n",
        "  if n==0:\n",
        "    return 1\n",
        "  else:\n",
        "    return n * factorial(n-1)\n",
        "\n",
        "\n",
        "n=5\n",
        "result=factorial(n)\n",
        "print(result)"
      ],
      "metadata": {
        "colab": {
          "base_uri": "https://localhost:8080/"
        },
        "id": "-FQI9Mte3BkI",
        "outputId": "ba579c32-a52b-4084-9f0a-ce484a89c184"
      },
      "execution_count": null,
      "outputs": [
        {
          "output_type": "stream",
          "name": "stdout",
          "text": [
            "120\n"
          ]
        }
      ]
    },
    {
      "cell_type": "markdown",
      "source": [
        "<aside>\n",
        "💡 **Question 4**\n",
        "\n",
        "Given a number N and a power P, the task is to find the exponent of this number raised to the given power, i.e. N^P.\n",
        "\n",
        "**Example 1 :** \n",
        "\n",
        "Input: N = 5, P = 2\n",
        "\n",
        "Output: 25\n",
        "\n",
        "**Example 2 :**\n",
        "Input: N = 2, P = 5\n",
        "\n",
        "Output: 32\n",
        "\n",
        "</aside>|"
      ],
      "metadata": {
        "id": "3uTsimmDCtUo"
      }
    },
    {
      "cell_type": "code",
      "source": [
        "def find_exponent(N,P):\n",
        "  if P==0:\n",
        "    return 1\n",
        "  else:\n",
        "    return N*find_exponent(N,P-1)\n",
        "\n",
        "\n",
        "N = 5\n",
        "P = 2\n",
        "exponent=find_exponent(N,P)\n",
        "print(exponent)\n",
        "\n",
        "N = 2\n",
        "P = 5\n",
        "exponent=find_exponent(N,P)\n",
        "print(exponent)\n"
      ],
      "metadata": {
        "colab": {
          "base_uri": "https://localhost:8080/"
        },
        "id": "uXBdZi1JCwqd",
        "outputId": "d41e23a4-75f0-4811-f282-1dcdc84b3a55"
      },
      "execution_count": null,
      "outputs": [
        {
          "output_type": "stream",
          "name": "stdout",
          "text": [
            "25\n",
            "32\n"
          ]
        }
      ]
    },
    {
      "cell_type": "markdown",
      "source": [
        "<aside>\n",
        "💡 **Question 5**\n",
        "\n",
        "Given an array of integers **arr**, the task is to find maximum element of that array using recursion.\n",
        "\n",
        "**Example 1:**\n",
        "\n",
        "Input: arr = {1, 4, 3, -5, -4, 8, 6};\n",
        "Output: 8\n",
        "\n",
        "**Example 2:**\n",
        "\n",
        "Input: arr = {1, 4, 45, 6, 10, -8};\n",
        "Output: 45\n",
        "\n",
        "</aside>"
      ],
      "metadata": {
        "id": "-o7iEfDT_zbC"
      }
    },
    {
      "cell_type": "code",
      "source": [
        "def find_maximum(arr):\n",
        "  \n",
        " if len(arr)==1:\n",
        "  return arr[0]\n",
        " else:\n",
        "  return max(arr[0], find_maximum(arr[1:]))\n",
        "\n",
        "arr = [1, 4, 3, -5, -4, 8, 6]\n",
        "maximum = find_maximum(arr)\n",
        "print(maximum)\n",
        " \n",
        "arr = [1, 4, 45, 6, 10, -8]\n",
        "maximum = find_maximum(arr)\n",
        "print(maximum)"
      ],
      "metadata": {
        "colab": {
          "base_uri": "https://localhost:8080/"
        },
        "id": "E9coUV1b_RcR",
        "outputId": "ac06b071-31a1-4bec-bd42-778efe8cd4a2"
      },
      "execution_count": null,
      "outputs": [
        {
          "output_type": "stream",
          "name": "stdout",
          "text": [
            "8\n",
            "45\n"
          ]
        }
      ]
    },
    {
      "cell_type": "markdown",
      "source": [
        "<aside>\n",
        "💡 **Question 6**\n",
        "\n",
        "Given first term (a), common difference (d) and a integer N of the Arithmetic Progression series, the task is to find Nth term of the series.\n",
        "\n",
        "**Example 1:**\n",
        "\n",
        "Input : a = 2 d = 1 N = 5\n",
        "Output : 6\n",
        "The 5th term of the series is : 6\n",
        "\n",
        "**Example 2:**\n",
        "\n",
        "Input : a = 5 d = 2 N = 10\n",
        "Output : 23\n",
        "The 10th term of the series is : 23\n",
        "\n",
        "</aside>"
      ],
      "metadata": {
        "id": "dt8sLRwrGpQw"
      }
    },
    {
      "cell_type": "code",
      "source": [
        "def nthTerm(a, d, N):\n",
        "  if N==1:\n",
        "    return a\n",
        "  else:\n",
        "    return nthTerm(a+d, d, N-1)\n",
        "\n",
        "a = 2\n",
        "d = 1\n",
        "N = 5\n",
        "print(nthTerm(a, d, N))\n",
        "\n",
        "\n",
        "\n",
        "\n",
        "a = 5\n",
        "d = 2 \n",
        "N = 10\n",
        "print(nthTerm(a, d, N))\n"
      ],
      "metadata": {
        "colab": {
          "base_uri": "https://localhost:8080/"
        },
        "id": "ALP7qPInGrTs",
        "outputId": "59d729b3-a17e-46ed-80fe-8caac98a3540"
      },
      "execution_count": null,
      "outputs": [
        {
          "output_type": "stream",
          "name": "stdout",
          "text": [
            "6\n",
            "23\n"
          ]
        }
      ]
    },
    {
      "cell_type": "markdown",
      "source": [
        "<aside>\n",
        "💡 **Question 7**\n",
        "\n",
        "Given a string S, the task is to write a program to print all permutations of a given string.\n",
        "\n",
        "**Example 1:**\n",
        "\n",
        "***Input:***\n",
        "\n",
        "*S = “ABC”*\n",
        "\n",
        "***Output:***\n",
        "\n",
        "*“ABC”, “ACB”, “BAC”, “BCA”, “CBA”, “CAB”*\n",
        "\n",
        "**Example 2:**\n",
        "\n",
        "***Input:***\n",
        "\n",
        "*S = “XY”*\n",
        "\n",
        "***Output:***\n",
        "\n",
        "*“XY”, “YX”*\n",
        "\n",
        "</aside>"
      ],
      "metadata": {
        "id": "6uUC1AuZGUtI"
      }
    },
    {
      "cell_type": "code",
      "source": [
        "def permute(S, start, end):\n",
        "  if start == end:\n",
        "     print(''.join(S))\n",
        "  else:\n",
        "     for i in range(start, end + 1):\n",
        "       S[start], S[i] = S[i], S[start]  # Swap characters\n",
        "       permute(S, start + 1, end)  # Recursive call\n",
        "       S[start], S[i] = S[i], S[start]  # Swap back characters\n",
        "\n",
        "\n",
        "def print_permutations(S):\n",
        "    n = len(S)\n",
        "    if n == 0:\n",
        "      print(\"No permutations exist.\")\n",
        "    else:\n",
        "      permute(list(S), 0, n - 1)\n",
        "\n",
        "\n",
        "# Example usage\n",
        "print_permutations(\"ABC\")\n",
        "print_permutations(\"XY\")\n"
      ],
      "metadata": {
        "colab": {
          "base_uri": "https://localhost:8080/"
        },
        "id": "6-blgGKTfaI9",
        "outputId": "a94b49fe-4871-4a5c-9f30-4de59f8903b8"
      },
      "execution_count": 25,
      "outputs": [
        {
          "output_type": "stream",
          "name": "stdout",
          "text": [
            "ABC\n",
            "ACB\n",
            "BAC\n",
            "BCA\n",
            "CBA\n",
            "CAB\n",
            "XY\n",
            "YX\n"
          ]
        }
      ]
    },
    {
      "cell_type": "markdown",
      "source": [
        "<aside>\n",
        "💡 **Question 8**\n",
        "\n",
        "Given an array, find a product of all array elements.\n",
        "\n",
        "**Example 1:**\n",
        "\n",
        "Input  : arr[] = {1, 2, 3, 4, 5}\n",
        "Output : 120\n",
        "**Example 2:**\n",
        "\n",
        "Input  : arr[] = {1, 6, 3}\n",
        "Output : 18\n",
        "\n",
        "</aside>"
      ],
      "metadata": {
        "id": "uhN1FlgtE1ZC"
      }
    },
    {
      "cell_type": "code",
      "source": [
        "def find_product(arr) :\n",
        "  if len(arr)==0:\n",
        "    return 1\n",
        "  else:\n",
        "    return arr[0]*find_product(arr[1:])\n",
        "\n",
        "arr = [1, 2, 3, 4, 5]\n",
        "print(find_product(arr))\n",
        "\n",
        "arr = [1, 6, 3]\n",
        "print(find_product(arr))"
      ],
      "metadata": {
        "colab": {
          "base_uri": "https://localhost:8080/"
        },
        "id": "g20VBI6xCB0W",
        "outputId": "1264c69d-a277-4738-b011-ab13fcc9623b"
      },
      "execution_count": null,
      "outputs": [
        {
          "output_type": "stream",
          "name": "stdout",
          "text": [
            "120\n",
            "18\n"
          ]
        }
      ]
    },
    {
      "cell_type": "code",
      "source": [],
      "metadata": {
        "id": "o2VHpbYHF5VT"
      },
      "execution_count": null,
      "outputs": []
    }
  ]
}